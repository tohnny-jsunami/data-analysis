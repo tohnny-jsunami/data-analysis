{
 "cells": [
  {
   "cell_type": "code",
   "execution_count": 2,
   "id": "f5b4a41e-a9c7-4da2-b80a-2a38dfcf8566",
   "metadata": {},
   "outputs": [],
   "source": [
    "#read in list of SMUT books"
   ]
  },
  {
   "cell_type": "code",
   "execution_count": 1,
   "id": "2d779730-3c34-4db7-95b1-03840d7d04d2",
   "metadata": {},
   "outputs": [],
   "source": [
    "# function that ask for user input\n",
    "# for the book they are looking for\n",
    "# the input is then used to search against the smut list\n",
    "# return is \"Yes this is smut\" or \"No this is not smut\""
   ]
  },
  {
   "cell_type": "code",
   "execution_count": null,
   "id": "54f53a8b-49af-4ea9-bcdf-cf7016deb02a",
   "metadata": {},
   "outputs": [],
   "source": []
  }
 ],
 "metadata": {
  "kernelspec": {
   "display_name": "Python 3 (ipykernel)",
   "language": "python",
   "name": "python3"
  },
  "language_info": {
   "codemirror_mode": {
    "name": "ipython",
    "version": 3
   },
   "file_extension": ".py",
   "mimetype": "text/x-python",
   "name": "python",
   "nbconvert_exporter": "python",
   "pygments_lexer": "ipython3",
   "version": "3.12.0"
  }
 },
 "nbformat": 4,
 "nbformat_minor": 5
}
