{
 "cells": [
  {
   "cell_type": "code",
<<<<<<< HEAD
   "execution_count": null,
=======
   "execution_count": 2,
>>>>>>> 68c045e0f1ed4c9757b240227ed4474b9da15c0f
   "id": "f5b4a41e-a9c7-4da2-b80a-2a38dfcf8566",
   "metadata": {},
   "outputs": [],
   "source": [
    "#read in list of SMUT books"
   ]
  },
  {
   "cell_type": "code",
<<<<<<< HEAD
   "execution_count": null,
=======
   "execution_count": 1,
>>>>>>> 68c045e0f1ed4c9757b240227ed4474b9da15c0f
   "id": "2d779730-3c34-4db7-95b1-03840d7d04d2",
   "metadata": {},
   "outputs": [],
   "source": [
    "# function that ask for user input\n",
    "# for the book they are looking for\n",
    "# the input is then used to search against the smut list\n",
    "# return is \"Yes this is smut\" or \"No this is not smut\""
   ]
  },
  {
<<<<<<< HEAD
   "cell_type": "markdown",
   "id": "65b00f77-8162-42bc-8a1b-3c54fc19b711",
   "metadata": {},
   "source": [
    "# Is This Smut?\n",
    "# 3 Parts\n",
    "1. get list of smut books\n",
    "2. build code to take in user input and return yes/no\n",
    "3. publish to a website or other accessible format"
   ]
  },
  {
   "cell_type": "markdown",
   "id": "3d074ae7-7313-4113-8446-702e914b2bbf",
   "metadata": {},
   "source": [
    "## 1. Get list of Smut Books\n",
    "\n",
    "Goodreads no longer has a public API. However, it has a list of Smut books on their website.\n",
    "~~`https://www.goodreads.com/shelf/show/smut?page=1`~~ something about this URL that isnt reading correctly. no matter what page i put, i get the same list of book titles. \n",
    "switching to ~~`https://www.goodreads.com/list/show/5535.Best_Smut_Books`~~ for now.\n",
    "I THINK IF YOU PING THE SAME SITE TOO MANY TIMES IT HANGS UP!\n",
    "\n",
    "This link is static and changing the page value will work.\n",
    "Will use beautifulsoup to scrape goodreads website for all the book titles from their page.\n",
    "Will need to identify the best HTML tag to extract the book title.\n",
    "Want to try extracting book titles from 10 pages, this should require a loop or list comprehension \n"
   ]
  },
  {
   "cell_type": "code",
   "execution_count": 1,
   "id": "0460395e-1b81-4de5-b8c5-6f7197718b91",
   "metadata": {},
   "outputs": [],
   "source": [
    "from bs4 import BeautifulSoup\n",
    "import requests\n",
    "import pandas as pd"
   ]
  },
  {
   "cell_type": "code",
   "execution_count": 14,
   "id": "a9caf41f-b870-4515-a3c4-e320689631c3",
   "metadata": {},
   "outputs": [],
   "source": [
    "smut_url = \"https://www.goodreads.com/shelf/show/smut?page=1\"\n",
    "\n",
    "#header is needed to avoid response 403 error\n",
    "headers = {\n",
    "    'User-Agent': 'Mozilla/5.0 (Windows NT 10.0; Win64; x64) AppleWebKit/537.36 (KHTML, like Gecko) Chrome/91.0.4472.124 Safari/537.36'\n",
    "}"
   ]
  },
  {
   "cell_type": "code",
   "execution_count": null,
   "id": "07a4f099-2942-444f-adf3-6f177297810d",
   "metadata": {},
   "outputs": [],
   "source": [
    "# sends request to the target URL. Response 200 is what we want\n",
    "page = requests.get(smut_url, headers = headers)"
   ]
  },
  {
   "cell_type": "code",
   "execution_count": null,
   "id": "e0d07e89-ed25-4c5e-96ca-bf42f9da42d4",
   "metadata": {},
   "outputs": [],
   "source": [
    "# `soup` is the common variable name for parsing a HTML page into a readable, bs4 format (not string)\n",
    "# args = get request, we want back the text out of the request (.text)\n",
    "soup = BeautifulSoup(page.text, \"html.parser\")"
   ]
  },
  {
   "cell_type": "code",
   "execution_count": null,
   "id": "aa352d14-10fd-4a1a-bfeb-ce7d5fa01a31",
   "metadata": {},
   "outputs": [],
   "source": [
    "# display(soup)"
   ]
  },
  {
   "cell_type": "code",
   "execution_count": null,
   "id": "d4c0bffc-3c11-47b3-bbda-97bd464df801",
   "metadata": {},
   "outputs": [],
   "source": [
    "display(\n",
    "    # .find() returns the first occurance of the tag\n",
    "    soup.find(\"a\", class_=\"bookTitle\"),\n",
    "    # .find_all() returns all occurances of the tag\n",
    "    soup.find_all(\"a\",class_=\"bookTitle\")\n",
    ")"
   ]
  },
  {
   "cell_type": "code",
   "execution_count": null,
   "id": "47399104-ea1e-4bbb-bb0f-7c29581eb745",
   "metadata": {},
   "outputs": [],
   "source": [
    "#turning the find_all results to a list\n",
    "soup_titles =list(soup.find_all(\"a\",class_=\"bookTitle\"))"
   ]
  },
  {
   "cell_type": "code",
   "execution_count": null,
   "id": "f9d6b585-7d1d-4f9a-8feb-154d7efb7bdd",
   "metadata": {},
   "outputs": [],
   "source": [
    "# using list comprehension to create a new list byt looping through all the `title` in soup_titles, making it text, and stripping away stuff\n",
    "book_titles = [title.text.strip() for title in soup_titles]\n",
    "book_titles"
   ]
  },
  {
   "cell_type": "markdown",
   "id": "1b9c3cfb-2261-4951-86aa-59385eeca4a1",
   "metadata": {},
   "source": [
    "## was able to scrape titles from 1 page, but how can i scrape book titles from multiple pages in one go?\n"
   ]
  },
  {
   "cell_type": "code",
   "execution_count": 5,
   "id": "a160bd3d-dd4c-44f0-8e38-7a0e7b603517",
   "metadata": {},
   "outputs": [],
   "source": [
    "# creating function based on what I know now\n",
    "\n",
    "def smut_scraper(url:str) -> list:\n",
    "    headers = {\n",
    "    'User-Agent': 'Mozilla/5.0 (Windows NT 10.0; Win64; x64) AppleWebKit/537.36 (KHTML, like Gecko) Chrome/91.0.4472.124 Safari/537.36',\n",
    "    'Accept': 'text/html,application/xhtml+xml,application/xml;q=0.9,image/webp,*/*;q=0.8',\n",
    "    # Add other headers as needed\n",
    "}\n",
    "    #get request to target URL\n",
    "    page = requests.get(url, headers = headers)\n",
    "    \n",
    "    #creates soup of page text from get request\n",
    "    soup = BeautifulSoup(page.text, \"html.parser\")\n",
    "    \n",
    "    #creating a list of results from finding all occurances of <a class=\"boookTitle\"... HTML\n",
    "    soup_titles =list(soup.find_all(\"a\",class_=\"bookTitle\"))\n",
    "\n",
    "    #looping through each element in soup titles, stripping away the HTML/non-text stff, and makign a list of just the book titles\n",
    "    book_titles = [title.text.strip() for title in soup_titles]\n",
    "\n",
    "    return book_titles"
   ]
  },
  {
   "cell_type": "code",
   "execution_count": 41,
   "id": "d63f6d35-80f3-4edb-b05d-805ae51b797c",
   "metadata": {},
   "outputs": [],
   "source": [
    "def smut_scraper_multi(url:str) -> list:\n",
    "    headers = {\n",
    "    'User-Agent': 'Mozilla/5.0 (Windows NT 10.0; Win64; x64) AppleWebKit/537.36 (KHTML, like Gecko) Chrome/91.0.4472.124 Safari/537.36',\n",
    "    'Accept': 'text/html,application/xhtml+xml,application/xml;q=0.9,image/webp,*/*;q=0.8',\n",
    "    # Add other headers as needed\n",
    "}\n",
    "    url_list = [url +str(i) for i in range(1,4)]\n",
    "    book_titles =[]\n",
    "    #start loop\n",
    "    for i in url_list:\n",
    "    #get request to target URL\n",
    "        page = requests.get(url, headers = headers)\n",
    "    \n",
    "    #creates soup of page text from get request\n",
    "        soup = BeautifulSoup(page.text, \"html.parser\")\n",
    "    \n",
    "    #creating a list of results from finding all occurances of <a class=\"boookTitle\"... HTML\n",
    "        soup_titles =list(soup.find_all(\"a\",class_=\"bookTitle\"))\n",
    "\n",
    "    #looping through each element in soup titles, stripping away the HTML/non-text stff, and makign a list of just the book titles\n",
    "        for titles in soup_titles:\n",
    "            book_titles.append(titles.text.strip())\n",
    "\n",
    "    return book_titles"
   ]
  },
  {
   "cell_type": "code",
   "execution_count": null,
   "id": "3ccccc94-4938-4146-bd1f-f25cde30af6e",
   "metadata": {},
   "outputs": [],
   "source": [
    "# test of single page\n",
    "# confirming function works\n",
    "smut_scraper(\"https://www.goodreads.com/list/show/5535.Best_Smut_Books\")"
   ]
  },
  {
   "cell_type": "code",
   "execution_count": null,
   "id": "19a9d746-9bb7-469a-8c5c-c02edb41ea74",
   "metadata": {},
   "outputs": [],
   "source": [
    "# confirmign the function works on another page and is pulling a different result\n",
    "smut_scraper(\"https://www.goodreads.com/list/show/5535.Best_Smut_Books?page=4\")\n"
   ]
  },
  {
   "cell_type": "code",
   "execution_count": 28,
   "id": "6d65c46d-be5a-4517-8ded-6b79c23e54c2",
   "metadata": {},
   "outputs": [
    {
     "data": {
      "text/plain": [
       "['https://www.goodreads.com/list/show/5535.Best_Smut_Books?page=1',\n",
       " 'https://www.goodreads.com/list/show/5535.Best_Smut_Books?page=2',\n",
       " 'https://www.goodreads.com/list/show/5535.Best_Smut_Books?page=3']"
      ]
     },
     "execution_count": 28,
     "metadata": {},
     "output_type": "execute_result"
    }
   ],
   "source": [
    "# list comprehension to get a list of new urls \n",
    "base_url = \"https://www.goodreads.com/list/show/5535.Best_Smut_Books?page=\"\n",
    "\n",
    "#for every element in range 1 to 9, crate a new list item using the base url + element\n",
    "url_list = [base_url +str(i) for i in range(1,4)]\n",
    "#confirming the url_list is populating\n",
    "url_list"
   ]
  },
  {
   "cell_type": "code",
   "execution_count": 29,
   "id": "75b88720-36a8-4834-8e09-1430d0b0625b",
   "metadata": {},
   "outputs": [],
   "source": [
    "# test list comprehension with a function?\n",
    "big_title_list = [smut_scraper(i) for i in url_list]\n",
    "# its works but the results is a list of lists"
   ]
  },
  {
   "cell_type": "code",
   "execution_count": 45,
   "id": "ae254da9-a41c-4ba2-b1c1-69c1c87a3603",
   "metadata": {},
   "outputs": [],
   "source": [
    "# testing multi scraper, but for only 3 pages\n",
    "big_list_test = smut_scraper_multi(base_url)"
   ]
  },
  {
   "cell_type": "code",
   "execution_count": 49,
   "id": "5d9fe168-e2f7-43c4-a867-23caab4127f9",
   "metadata": {},
   "outputs": [
    {
     "data": {
      "text/plain": [
       "['Lover Awakened (Black Dagger Brotherhood, #3)',\n",
       " 'Dark Lover (Black Dagger Brotherhood, #1)',\n",
       " 'Fifty Shades of Grey (Fifty Shades, #1)',\n",
       " 'Lover Eternal (Black Dagger Brotherhood, #2)',\n",
       " 'A Hunger Like No Other (Immortals After Dark, #1)',\n",
       " 'Lover Unbound (Black Dagger Brotherhood, #5)',\n",
       " 'Lover Mine (Black Dagger Brotherhood, #8)',\n",
       " 'Bared to You (Crossfire, #1)',\n",
       " 'Fifty Shades Darker (Fifty Shades, #2)',\n",
       " 'Fifty Shades Freed (Fifty Shades, #3)',\n",
       " 'Lover Revealed (Black Dagger Brotherhood, #4)',\n",
       " 'Lover Avenged (Black Dagger Brotherhood, #7)',\n",
       " 'Lover Enshrined (Black Dagger Brotherhood, #6)',\n",
       " 'Backstage Pass (Sinners on Tour, #1)',\n",
       " 'Club Shadowlands (Masters of the Shadowlands, #1)',\n",
       " 'Reflected in You (Crossfire, #2)',\n",
       " 'Wicked Ties (Wicked Lovers, #1)',\n",
       " 'Fantasy Lover (Hunter Legends, #1)',\n",
       " 'Acheron (Dark-Hunter, #14)',\n",
       " 'Go Fetch! (Magnus Pack, #2)',\n",
       " 'Here Kitty, Kitty! (Magnus Pack, #3)',\n",
       " 'Decadent (Wicked Lovers, #2)',\n",
       " 'Pleasure of a Dark Prince (Immortals After Dark, #8)',\n",
       " 'Breaking Free (Masters of the Shadowlands, #3)',\n",
       " 'Kiss of Midnight (Midnight Breed,  #1)',\n",
       " 'Long Hard Ride (Rough Riders, #1)',\n",
       " 'A Fairy Awesome Story (A Fairy Awesome Story, #1)',\n",
       " 'Lover Unleashed (Black Dagger Brotherhood, #9)',\n",
       " 'Plentiful Package (Simply Breathtaking, #1)',\n",
       " 'Dark Citadel (Masters of the Shadowlands, #2)',\n",
       " 'Masters of the Shadowlands (Masters of the Shadowlands, #1-2)',\n",
       " \"The Dom's Dungeon\",\n",
       " 'Sweet Persuasion (Sweet, #2)',\n",
       " 'Lover Reborn (Black Dagger Brotherhood, #10)',\n",
       " 'Narcissus in Chains (Anita Blake, Vampire Hunter, #10)',\n",
       " 'Lean on Me (Masters of the Shadowlands, #4)',\n",
       " 'The Mane Squeeze (Pride, #4)',\n",
       " 'The Mane Attraction (Pride, #3)',\n",
       " \"Colters' Woman (Colters' Legacy, #1)\",\n",
       " \"Gabriel's Inferno (Gabriel's Inferno, #1)\",\n",
       " 'The Fairy Next Book (A Fairy Awesome Story, #2)',\n",
       " 'The Fairiest Fairy of Them All (A Fairy Awesome Story, #3)',\n",
       " 'The Reluctant Dom (Suncoast Society, #4)',\n",
       " 'Forbidden Pleasure (Bound Hearts, #8)',\n",
       " 'Cowgirl Up and Ride (Rough Riders, #3)',\n",
       " 'Rock Hard (Sinners on Tour, #2)',\n",
       " 'Kiss of Crimson (Midnight Breed, #2)',\n",
       " \"Mistral's Kiss (Merry Gentry, #5)\",\n",
       " 'Sweet Temptation (Sweet, #4)',\n",
       " 'Make Me, Sir (Masters of the Shadowlands, #5)',\n",
       " 'Stuck in Between (Bound by Your Love, #1)',\n",
       " 'The Beast in Him (Pride, #2)',\n",
       " 'Shades of Midnight (Midnight Breed, #7)',\n",
       " 'The Naughty Box',\n",
       " 'Nauti Boy (Nauti, #1)',\n",
       " 'Master of the Mountain (Mountain Masters & Dark Haven, #1)',\n",
       " 'Midnight Rising (Midnight Breed, #4)',\n",
       " \"Sarah's Dirty Secret\",\n",
       " 'Veil of Midnight (Midnight Breed, #5)',\n",
       " \"Daddy's Game (Daddy's Girls, #2)\",\n",
       " 'Rough, Raw, and Ready (Rough Riders, #5)',\n",
       " 'Tied Up, Tied Down (Rough Riders, #4)',\n",
       " 'The Riding School (Pony Tales, #1)',\n",
       " 'Laid Bare (Brown Family, #1)',\n",
       " 'Guilty Pleasure (Bound Hearts, #11)',\n",
       " 'Ashes of Midnight (Midnight Breed, #6)',\n",
       " 'Nauti Nights (Nauti, #2)',\n",
       " 'Dirty (Dan and Elle, #1)',\n",
       " 'Babysitting the Baumgartners (Baumgartners, #1)',\n",
       " 'The Club (Room 237 Series, #1)',\n",
       " 'Covet (Fallen Angels, #1)',\n",
       " 'Victorious Star (Interstellar Service & Discipline, #1)',\n",
       " 'Rode Hard, Put Up Wet (Rough Riders, #2)',\n",
       " 'The Mating  (Law of the Lycans, #1)',\n",
       " 'Danse Macabre (Anita Blake, Vampire Hunter, #14)',\n",
       " 'Fairy, Fairy, Quite Contrary (A Fairy Awesome Story, #4)',\n",
       " 'Incubus Dreams (Anita Blake, Vampire Hunter, #12)',\n",
       " 'Wicked Pleasure (Bound Hearts, #9)',\n",
       " 'Branded as Trouble (Rough Riders, #6)',\n",
       " 'Micah (Anita Blake, Vampire Hunter, #13)',\n",
       " 'Maverick (Elite Ops, #2)',\n",
       " 'Their One and Only',\n",
       " 'Master of the Abyss (Mountain Masters & Dark Haven, #2)',\n",
       " 'Nauti Intentions (Nauti #4)',\n",
       " 'Nauti Deceptions (Nauti, #5)',\n",
       " 'Willing Victim (Flynn and Laurel, #1)',\n",
       " 'Thoughtless (Thoughtless, #1)',\n",
       " 'Effortless (Thoughtless, #2)',\n",
       " 'Natural Law (Nature of Desire, #2)',\n",
       " 'Hunting Season (The Gathering, #1)',\n",
       " \"When He Was Bad (Magnus Pack, #3.5; Pride, #0.75; Smith's Shifter World, #3.5)\",\n",
       " 'The Killing Dance (Anita Blake, Vampire Hunter, #6)',\n",
       " \"Samson's Lovely Mortal (Scanguards Vampires, #1)\",\n",
       " \"The Black Dagger Brotherhood: An Insider's Guide\",\n",
       " 'Fair Trade',\n",
       " 'Giving Chase (Chase Brothers, #1)',\n",
       " 'Love Slave for Two (Love Slave for Two, #1)',\n",
       " 'Cerulean Sins (Anita Blake, Vampire Hunter, #11)',\n",
       " \"Ral's Woman (Zorn Warriors, #1)\",\n",
       " 'Riding Desire: Alpha Bad Boy Bikers',\n",
       " 'Lover Awakened (Black Dagger Brotherhood, #3)',\n",
       " 'Dark Lover (Black Dagger Brotherhood, #1)',\n",
       " 'Fifty Shades of Grey (Fifty Shades, #1)',\n",
       " 'Lover Eternal (Black Dagger Brotherhood, #2)',\n",
       " 'A Hunger Like No Other (Immortals After Dark, #1)',\n",
       " 'Lover Unbound (Black Dagger Brotherhood, #5)',\n",
       " 'Lover Mine (Black Dagger Brotherhood, #8)',\n",
       " 'Bared to You (Crossfire, #1)',\n",
       " 'Fifty Shades Darker (Fifty Shades, #2)',\n",
       " 'Fifty Shades Freed (Fifty Shades, #3)',\n",
       " 'Lover Revealed (Black Dagger Brotherhood, #4)',\n",
       " 'Lover Avenged (Black Dagger Brotherhood, #7)',\n",
       " 'Lover Enshrined (Black Dagger Brotherhood, #6)',\n",
       " 'Backstage Pass (Sinners on Tour, #1)',\n",
       " 'Club Shadowlands (Masters of the Shadowlands, #1)',\n",
       " 'Reflected in You (Crossfire, #2)',\n",
       " 'Wicked Ties (Wicked Lovers, #1)',\n",
       " 'Fantasy Lover (Hunter Legends, #1)',\n",
       " 'Acheron (Dark-Hunter, #14)',\n",
       " 'Go Fetch! (Magnus Pack, #2)',\n",
       " 'Here Kitty, Kitty! (Magnus Pack, #3)',\n",
       " 'Decadent (Wicked Lovers, #2)',\n",
       " 'Pleasure of a Dark Prince (Immortals After Dark, #8)',\n",
       " 'Breaking Free (Masters of the Shadowlands, #3)',\n",
       " 'Kiss of Midnight (Midnight Breed,  #1)',\n",
       " 'Long Hard Ride (Rough Riders, #1)',\n",
       " 'A Fairy Awesome Story (A Fairy Awesome Story, #1)',\n",
       " 'Lover Unleashed (Black Dagger Brotherhood, #9)',\n",
       " 'Plentiful Package (Simply Breathtaking, #1)',\n",
       " 'Dark Citadel (Masters of the Shadowlands, #2)',\n",
       " 'Masters of the Shadowlands (Masters of the Shadowlands, #1-2)',\n",
       " \"The Dom's Dungeon\",\n",
       " 'Sweet Persuasion (Sweet, #2)',\n",
       " 'Lover Reborn (Black Dagger Brotherhood, #10)',\n",
       " 'Narcissus in Chains (Anita Blake, Vampire Hunter, #10)',\n",
       " 'Lean on Me (Masters of the Shadowlands, #4)',\n",
       " 'The Mane Squeeze (Pride, #4)',\n",
       " 'The Mane Attraction (Pride, #3)',\n",
       " \"Colters' Woman (Colters' Legacy, #1)\",\n",
       " \"Gabriel's Inferno (Gabriel's Inferno, #1)\",\n",
       " 'The Fairy Next Book (A Fairy Awesome Story, #2)',\n",
       " 'The Fairiest Fairy of Them All (A Fairy Awesome Story, #3)',\n",
       " 'The Reluctant Dom (Suncoast Society, #4)',\n",
       " 'Forbidden Pleasure (Bound Hearts, #8)',\n",
       " 'Cowgirl Up and Ride (Rough Riders, #3)',\n",
       " 'Rock Hard (Sinners on Tour, #2)',\n",
       " 'Kiss of Crimson (Midnight Breed, #2)',\n",
       " \"Mistral's Kiss (Merry Gentry, #5)\",\n",
       " 'Sweet Temptation (Sweet, #4)',\n",
       " 'Make Me, Sir (Masters of the Shadowlands, #5)',\n",
       " 'Stuck in Between (Bound by Your Love, #1)',\n",
       " 'The Beast in Him (Pride, #2)',\n",
       " 'Shades of Midnight (Midnight Breed, #7)',\n",
       " 'The Naughty Box',\n",
       " 'Nauti Boy (Nauti, #1)',\n",
       " 'Master of the Mountain (Mountain Masters & Dark Haven, #1)',\n",
       " 'Midnight Rising (Midnight Breed, #4)',\n",
       " \"Sarah's Dirty Secret\",\n",
       " 'Veil of Midnight (Midnight Breed, #5)',\n",
       " \"Daddy's Game (Daddy's Girls, #2)\",\n",
       " 'Rough, Raw, and Ready (Rough Riders, #5)',\n",
       " 'Tied Up, Tied Down (Rough Riders, #4)',\n",
       " 'The Riding School (Pony Tales, #1)',\n",
       " 'Laid Bare (Brown Family, #1)',\n",
       " 'Guilty Pleasure (Bound Hearts, #11)',\n",
       " 'Ashes of Midnight (Midnight Breed, #6)',\n",
       " 'Nauti Nights (Nauti, #2)',\n",
       " 'Dirty (Dan and Elle, #1)',\n",
       " 'Babysitting the Baumgartners (Baumgartners, #1)',\n",
       " 'The Club (Room 237 Series, #1)',\n",
       " 'Covet (Fallen Angels, #1)',\n",
       " 'Victorious Star (Interstellar Service & Discipline, #1)',\n",
       " 'Rode Hard, Put Up Wet (Rough Riders, #2)',\n",
       " 'The Mating  (Law of the Lycans, #1)',\n",
       " 'Danse Macabre (Anita Blake, Vampire Hunter, #14)',\n",
       " 'Fairy, Fairy, Quite Contrary (A Fairy Awesome Story, #4)',\n",
       " 'Incubus Dreams (Anita Blake, Vampire Hunter, #12)',\n",
       " 'Wicked Pleasure (Bound Hearts, #9)',\n",
       " 'Branded as Trouble (Rough Riders, #6)',\n",
       " 'Micah (Anita Blake, Vampire Hunter, #13)',\n",
       " 'Maverick (Elite Ops, #2)',\n",
       " 'Their One and Only',\n",
       " 'Master of the Abyss (Mountain Masters & Dark Haven, #2)',\n",
       " 'Nauti Intentions (Nauti #4)',\n",
       " 'Nauti Deceptions (Nauti, #5)',\n",
       " 'Willing Victim (Flynn and Laurel, #1)',\n",
       " 'Thoughtless (Thoughtless, #1)',\n",
       " 'Effortless (Thoughtless, #2)',\n",
       " 'Natural Law (Nature of Desire, #2)',\n",
       " 'Hunting Season (The Gathering, #1)',\n",
       " \"When He Was Bad (Magnus Pack, #3.5; Pride, #0.75; Smith's Shifter World, #3.5)\",\n",
       " 'The Killing Dance (Anita Blake, Vampire Hunter, #6)',\n",
       " \"Samson's Lovely Mortal (Scanguards Vampires, #1)\",\n",
       " \"The Black Dagger Brotherhood: An Insider's Guide\",\n",
       " 'Fair Trade',\n",
       " 'Giving Chase (Chase Brothers, #1)',\n",
       " 'Love Slave for Two (Love Slave for Two, #1)',\n",
       " 'Cerulean Sins (Anita Blake, Vampire Hunter, #11)',\n",
       " \"Ral's Woman (Zorn Warriors, #1)\",\n",
       " 'Riding Desire: Alpha Bad Boy Bikers',\n",
       " 'Lover Awakened (Black Dagger Brotherhood, #3)',\n",
       " 'Dark Lover (Black Dagger Brotherhood, #1)',\n",
       " 'Fifty Shades of Grey (Fifty Shades, #1)',\n",
       " 'Lover Eternal (Black Dagger Brotherhood, #2)',\n",
       " 'A Hunger Like No Other (Immortals After Dark, #1)',\n",
       " 'Lover Unbound (Black Dagger Brotherhood, #5)',\n",
       " 'Lover Mine (Black Dagger Brotherhood, #8)',\n",
       " 'Bared to You (Crossfire, #1)',\n",
       " 'Fifty Shades Darker (Fifty Shades, #2)',\n",
       " 'Fifty Shades Freed (Fifty Shades, #3)',\n",
       " 'Lover Revealed (Black Dagger Brotherhood, #4)',\n",
       " 'Lover Avenged (Black Dagger Brotherhood, #7)',\n",
       " 'Lover Enshrined (Black Dagger Brotherhood, #6)',\n",
       " 'Backstage Pass (Sinners on Tour, #1)',\n",
       " 'Club Shadowlands (Masters of the Shadowlands, #1)',\n",
       " 'Reflected in You (Crossfire, #2)',\n",
       " 'Wicked Ties (Wicked Lovers, #1)',\n",
       " 'Fantasy Lover (Hunter Legends, #1)',\n",
       " 'Acheron (Dark-Hunter, #14)',\n",
       " 'Go Fetch! (Magnus Pack, #2)',\n",
       " 'Here Kitty, Kitty! (Magnus Pack, #3)',\n",
       " 'Decadent (Wicked Lovers, #2)',\n",
       " 'Pleasure of a Dark Prince (Immortals After Dark, #8)',\n",
       " 'Breaking Free (Masters of the Shadowlands, #3)',\n",
       " 'Kiss of Midnight (Midnight Breed,  #1)',\n",
       " 'Long Hard Ride (Rough Riders, #1)',\n",
       " 'A Fairy Awesome Story (A Fairy Awesome Story, #1)',\n",
       " 'Lover Unleashed (Black Dagger Brotherhood, #9)',\n",
       " 'Plentiful Package (Simply Breathtaking, #1)',\n",
       " 'Dark Citadel (Masters of the Shadowlands, #2)',\n",
       " 'Masters of the Shadowlands (Masters of the Shadowlands, #1-2)',\n",
       " \"The Dom's Dungeon\",\n",
       " 'Sweet Persuasion (Sweet, #2)',\n",
       " 'Lover Reborn (Black Dagger Brotherhood, #10)',\n",
       " 'Narcissus in Chains (Anita Blake, Vampire Hunter, #10)',\n",
       " 'Lean on Me (Masters of the Shadowlands, #4)',\n",
       " 'The Mane Squeeze (Pride, #4)',\n",
       " 'The Mane Attraction (Pride, #3)',\n",
       " \"Colters' Woman (Colters' Legacy, #1)\",\n",
       " \"Gabriel's Inferno (Gabriel's Inferno, #1)\",\n",
       " 'The Fairy Next Book (A Fairy Awesome Story, #2)',\n",
       " 'The Fairiest Fairy of Them All (A Fairy Awesome Story, #3)',\n",
       " 'The Reluctant Dom (Suncoast Society, #4)',\n",
       " 'Forbidden Pleasure (Bound Hearts, #8)',\n",
       " 'Cowgirl Up and Ride (Rough Riders, #3)',\n",
       " 'Rock Hard (Sinners on Tour, #2)',\n",
       " 'Kiss of Crimson (Midnight Breed, #2)',\n",
       " \"Mistral's Kiss (Merry Gentry, #5)\",\n",
       " 'Sweet Temptation (Sweet, #4)',\n",
       " 'Make Me, Sir (Masters of the Shadowlands, #5)',\n",
       " 'Stuck in Between (Bound by Your Love, #1)',\n",
       " 'The Beast in Him (Pride, #2)',\n",
       " 'Shades of Midnight (Midnight Breed, #7)',\n",
       " 'The Naughty Box',\n",
       " 'Nauti Boy (Nauti, #1)',\n",
       " 'Master of the Mountain (Mountain Masters & Dark Haven, #1)',\n",
       " 'Midnight Rising (Midnight Breed, #4)',\n",
       " \"Sarah's Dirty Secret\",\n",
       " 'Veil of Midnight (Midnight Breed, #5)',\n",
       " \"Daddy's Game (Daddy's Girls, #2)\",\n",
       " 'Rough, Raw, and Ready (Rough Riders, #5)',\n",
       " 'Tied Up, Tied Down (Rough Riders, #4)',\n",
       " 'The Riding School (Pony Tales, #1)',\n",
       " 'Laid Bare (Brown Family, #1)',\n",
       " 'Guilty Pleasure (Bound Hearts, #11)',\n",
       " 'Ashes of Midnight (Midnight Breed, #6)',\n",
       " 'Nauti Nights (Nauti, #2)',\n",
       " 'Dirty (Dan and Elle, #1)',\n",
       " 'Babysitting the Baumgartners (Baumgartners, #1)',\n",
       " 'The Club (Room 237 Series, #1)',\n",
       " 'Covet (Fallen Angels, #1)',\n",
       " 'Victorious Star (Interstellar Service & Discipline, #1)',\n",
       " 'Rode Hard, Put Up Wet (Rough Riders, #2)',\n",
       " 'The Mating  (Law of the Lycans, #1)',\n",
       " 'Danse Macabre (Anita Blake, Vampire Hunter, #14)',\n",
       " 'Fairy, Fairy, Quite Contrary (A Fairy Awesome Story, #4)',\n",
       " 'Incubus Dreams (Anita Blake, Vampire Hunter, #12)',\n",
       " 'Wicked Pleasure (Bound Hearts, #9)',\n",
       " 'Branded as Trouble (Rough Riders, #6)',\n",
       " 'Micah (Anita Blake, Vampire Hunter, #13)',\n",
       " 'Maverick (Elite Ops, #2)',\n",
       " 'Their One and Only',\n",
       " 'Master of the Abyss (Mountain Masters & Dark Haven, #2)',\n",
       " 'Nauti Intentions (Nauti #4)',\n",
       " 'Nauti Deceptions (Nauti, #5)',\n",
       " 'Willing Victim (Flynn and Laurel, #1)',\n",
       " 'Thoughtless (Thoughtless, #1)',\n",
       " 'Effortless (Thoughtless, #2)',\n",
       " 'Natural Law (Nature of Desire, #2)',\n",
       " 'Hunting Season (The Gathering, #1)',\n",
       " \"When He Was Bad (Magnus Pack, #3.5; Pride, #0.75; Smith's Shifter World, #3.5)\",\n",
       " 'The Killing Dance (Anita Blake, Vampire Hunter, #6)',\n",
       " \"Samson's Lovely Mortal (Scanguards Vampires, #1)\",\n",
       " \"The Black Dagger Brotherhood: An Insider's Guide\",\n",
       " 'Fair Trade',\n",
       " 'Giving Chase (Chase Brothers, #1)',\n",
       " 'Love Slave for Two (Love Slave for Two, #1)',\n",
       " 'Cerulean Sins (Anita Blake, Vampire Hunter, #11)',\n",
       " \"Ral's Woman (Zorn Warriors, #1)\",\n",
       " 'Riding Desire: Alpha Bad Boy Bikers']"
      ]
     },
     "execution_count": 49,
     "metadata": {},
     "output_type": "execute_result"
    }
   ],
   "source": [
    "big_list_test"
   ]
  },
  {
   "cell_type": "code",
   "execution_count": 48,
   "id": "41af3b4b-cff8-44c4-9303-e91ef9c16b57",
   "metadata": {},
   "outputs": [
    {
     "data": {
      "text/plain": [
       "100"
      ]
     },
     "execution_count": 48,
     "metadata": {},
     "output_type": "execute_result"
    }
   ],
   "source": [
    "len(set(big_list_test))"
   ]
  },
  {
   "cell_type": "markdown",
   "id": "3ed90e75-a90c-4161-94eb-d7d47a039468",
   "metadata": {},
   "source": [
    "## 2. Build code to take in user input and return yes/no\n",
    "\n",
    "Once a list is produced, can then build out a program that uses `.input()` to get user input. then use that values to run a `.str.contrains()` on book title list. `if/else` statement: if input matches a item on the title list, return `\"Yes this is smut\"` and list of matching books. else return `\"No this is not smut\"`"
   ]
  },
  {
   "cell_type": "markdown",
   "id": "17664692-de2c-4fde-a248-40ee74675f0d",
   "metadata": {},
   "source": [
    "## 3. Publish to a website or other accessible format\n",
    "* Maybe explore `github pages`\n",
    "* maybe host the code on `google colab`\n",
    "* or some kind of Power BI Dashboard type thing\n",
    "  "
   ]
  },
  {
   "cell_type": "code",
   "execution_count": null,
   "id": "1ff12333-f689-44d9-960e-1ba02c4c912f",
=======
   "cell_type": "code",
   "execution_count": null,
   "id": "54f53a8b-49af-4ea9-bcdf-cf7016deb02a",
>>>>>>> 68c045e0f1ed4c9757b240227ed4474b9da15c0f
   "metadata": {},
   "outputs": [],
   "source": []
  }
 ],
 "metadata": {
  "kernelspec": {
   "display_name": "Python 3 (ipykernel)",
   "language": "python",
   "name": "python3"
  },
  "language_info": {
   "codemirror_mode": {
    "name": "ipython",
    "version": 3
   },
   "file_extension": ".py",
   "mimetype": "text/x-python",
   "name": "python",
   "nbconvert_exporter": "python",
   "pygments_lexer": "ipython3",
   "version": "3.12.0"
  }
 },
 "nbformat": 4,
 "nbformat_minor": 5
}
