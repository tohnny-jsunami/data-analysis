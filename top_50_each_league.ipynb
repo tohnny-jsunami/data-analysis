{
 "cells": [
  {
   "cell_type": "code",
   "execution_count": 1,
   "id": "bb12386b-2ad2-4d5a-816c-1a3d85cb6ae2",
   "metadata": {},
   "outputs": [],
   "source": [
    "import pandas as pd\n",
    "G_LINK = 'https://drive.google.com/uc?export=download&id='"
   ]
  },
  {
   "cell_type": "code",
   "execution_count": 3,
   "id": "2166cec3-3941-47b0-9fc4-0f9208496c85",
   "metadata": {},
   "outputs": [],
   "source": [
    "gl_link = \"https://drive.google.com/file/d/1QO5zmytPKui7W9LpPmrI6DHZr1Ah7HFR/view?usp=drive_link\"\n",
    "ul_link = \"https://drive.google.com/file/d/1hPT-N6ECvbhZDSO4yucPKhVEhDQG0VQw/view?usp=drive_link\"\n",
    "ml_link = \"https://drive.google.com/file/d/1uQL7xKN81afujUnIJ8jEAMPzVzmz2REm/view?usp=drive_link\""
   ]
  },
  {
   "cell_type": "code",
   "execution_count": 6,
   "id": "0ce4a681-6d4c-4691-86da-78cbcbec4ce5",
   "metadata": {},
   "outputs": [],
   "source": [
    "gl = pd.read_csv(f\"{G_LINK}\"+gl_link.split('/')[-2])"
   ]
  },
  {
   "cell_type": "code",
   "execution_count": null,
   "id": "1b046821-f9a8-41da-807d-c6b40ee30927",
   "metadata": {},
   "outputs": [],
   "source": [
    "def clean_gl"
   ]
  }
 ],
 "metadata": {
  "kernelspec": {
   "display_name": "Python 3 (ipykernel)",
   "language": "python",
   "name": "python3"
  },
  "language_info": {
   "codemirror_mode": {
    "name": "ipython",
    "version": 3
   },
   "file_extension": ".py",
   "mimetype": "text/x-python",
   "name": "python",
   "nbconvert_exporter": "python",
   "pygments_lexer": "ipython3",
   "version": "3.12.0"
  }
 },
 "nbformat": 4,
 "nbformat_minor": 5
}
