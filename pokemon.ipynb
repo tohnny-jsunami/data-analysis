{
 "cells": [
  {
   "cell_type": "code",
   "execution_count": 1,
   "id": "e7e217c0-cad7-4387-9ea4-e2335cb62d6b",
   "metadata": {},
   "outputs": [],
   "source": [
    "import pandas as pd"
   ]
  },
  {
   "cell_type": "code",
   "execution_count": 14,
   "id": "ec015646-a636-4e1f-9404-af37508b1e97",
   "metadata": {},
   "outputs": [],
   "source": [
    "#URLs to CSV from google drive\n",
    "url1 = 'https://drive.google.com/file/d/1QO5zmytPKui7W9LpPmrI6DHZr1Ah7HFR/view?usp=sharing'\n",
    "url2 = 'https://drive.google.com/file/d/1hPT-N6ECvbhZDSO4yucPKhVEhDQG0VQw/view?usp=sharing'\n",
    "url3 = 'https://drive.google.com/file/d/1cCUBzDxIufQoDQTHnSV15eylitN4v_3W/view?usp=sharing'"
   ]
  },
  {
   "cell_type": "code",
   "execution_count": 9,
   "id": "9fe0c62d-3717-41ad-9a7c-1b777fa6f459",
   "metadata": {},
   "outputs": [],
   "source": [
    "#function to import csvs from google drive\n",
    "def tester(url): \n",
    "    df = pd.read_csv('https://drive.google.com/uc?export=download&id='+url.split('/')[-2])\n",
    "    return df"
   ]
  },
  {
   "cell_type": "code",
   "execution_count": 4,
   "id": "6676efd6-2ba7-43f2-9fbd-563c263d1423",
   "metadata": {},
   "outputs": [],
   "source": [
    "#function to check df\n",
    "def checker(df):\n",
    "    display(type(df))\n",
    "    display(df.shape)\n",
    "    display(df.head(3))\n",
    "    "
   ]
  },
  {
   "cell_type": "code",
   "execution_count": 11,
   "id": "6b368547-6bf0-419d-8967-8dc1c90ca615",
   "metadata": {},
   "outputs": [],
   "source": [
    "great = tester(url1)"
   ]
  },
  {
   "cell_type": "code",
   "execution_count": 12,
   "id": "2582af44-0de0-48d4-9106-6e2fc33177a5",
   "metadata": {},
   "outputs": [],
   "source": [
    "ultra = tester(url2)"
   ]
  },
  {
   "cell_type": "code",
   "execution_count": 15,
   "id": "e5a9a1dd-ea01-432a-baf3-8e67cc043817",
   "metadata": {},
   "outputs": [],
   "source": [
    "pkmn = tester(url3)"
   ]
  },
  {
   "cell_type": "code",
   "execution_count": 16,
   "id": "dfde59b5-e54c-4d7b-93ee-9852d3c83666",
   "metadata": {},
   "outputs": [
    {
     "data": {
      "text/plain": [
       "pandas.core.frame.DataFrame"
      ]
     },
     "metadata": {},
     "output_type": "display_data"
    },
    {
     "data": {
      "text/plain": [
       "(888, 18)"
      ]
     },
     "metadata": {},
     "output_type": "display_data"
    },
    {
     "data": {
      "text/html": [
       "<div>\n",
       "<style scoped>\n",
       "    .dataframe tbody tr th:only-of-type {\n",
       "        vertical-align: middle;\n",
       "    }\n",
       "\n",
       "    .dataframe tbody tr th {\n",
       "        vertical-align: top;\n",
       "    }\n",
       "\n",
       "    .dataframe thead th {\n",
       "        text-align: right;\n",
       "    }\n",
       "</style>\n",
       "<table border=\"1\" class=\"dataframe\">\n",
       "  <thead>\n",
       "    <tr style=\"text-align: right;\">\n",
       "      <th></th>\n",
       "      <th>Pokemon</th>\n",
       "      <th>Score</th>\n",
       "      <th>Dex</th>\n",
       "      <th>Type 1</th>\n",
       "      <th>Type 2</th>\n",
       "      <th>Attack</th>\n",
       "      <th>Defense</th>\n",
       "      <th>Stamina</th>\n",
       "      <th>Stat Product</th>\n",
       "      <th>Level</th>\n",
       "      <th>CP</th>\n",
       "      <th>Fast Move</th>\n",
       "      <th>Charged Move 1</th>\n",
       "      <th>Charged Move 2</th>\n",
       "      <th>Charged Move 1 Count</th>\n",
       "      <th>Charged Move 2 Count</th>\n",
       "      <th>Buddy Distance</th>\n",
       "      <th>Charged Move Cost</th>\n",
       "    </tr>\n",
       "  </thead>\n",
       "  <tbody>\n",
       "    <tr>\n",
       "      <th>0</th>\n",
       "      <td>Medicham</td>\n",
       "      <td>96.3</td>\n",
       "      <td>308</td>\n",
       "      <td>fighting</td>\n",
       "      <td>psychic</td>\n",
       "      <td>106.9</td>\n",
       "      <td>139.5</td>\n",
       "      <td>141</td>\n",
       "      <td>2102958</td>\n",
       "      <td>49.0</td>\n",
       "      <td>1500</td>\n",
       "      <td>Counter</td>\n",
       "      <td>Ice Punch</td>\n",
       "      <td>Psychic</td>\n",
       "      <td>6</td>\n",
       "      <td>8</td>\n",
       "      <td>3</td>\n",
       "      <td>50000</td>\n",
       "    </tr>\n",
       "    <tr>\n",
       "      <th>1</th>\n",
       "      <td>Carbink</td>\n",
       "      <td>96.1</td>\n",
       "      <td>703</td>\n",
       "      <td>rock</td>\n",
       "      <td>fairy</td>\n",
       "      <td>84.9</td>\n",
       "      <td>247.9</td>\n",
       "      <td>126</td>\n",
       "      <td>2650835</td>\n",
       "      <td>50.0</td>\n",
       "      <td>1500</td>\n",
       "      <td>Rock Throw</td>\n",
       "      <td>Rock Slide</td>\n",
       "      <td>Moonblast</td>\n",
       "      <td>9</td>\n",
       "      <td>12</td>\n",
       "      <td>5</td>\n",
       "      <td>75000</td>\n",
       "    </tr>\n",
       "    <tr>\n",
       "      <th>2</th>\n",
       "      <td>Lickitung</td>\n",
       "      <td>94.9</td>\n",
       "      <td>108</td>\n",
       "      <td>normal</td>\n",
       "      <td>none</td>\n",
       "      <td>98.3</td>\n",
       "      <td>126.9</td>\n",
       "      <td>183</td>\n",
       "      <td>2282878</td>\n",
       "      <td>50.0</td>\n",
       "      <td>1498</td>\n",
       "      <td>Lick</td>\n",
       "      <td>Body Slam</td>\n",
       "      <td>Power Whip</td>\n",
       "      <td>12</td>\n",
       "      <td>17</td>\n",
       "      <td>3</td>\n",
       "      <td>50000</td>\n",
       "    </tr>\n",
       "  </tbody>\n",
       "</table>\n",
       "</div>"
      ],
      "text/plain": [
       "     Pokemon  Score  Dex    Type 1   Type 2  Attack  Defense  Stamina  \\\n",
       "0   Medicham   96.3  308  fighting  psychic   106.9    139.5      141   \n",
       "1    Carbink   96.1  703      rock    fairy    84.9    247.9      126   \n",
       "2  Lickitung   94.9  108    normal     none    98.3    126.9      183   \n",
       "\n",
       "   Stat Product  Level    CP   Fast Move Charged Move 1 Charged Move 2  \\\n",
       "0       2102958   49.0  1500     Counter      Ice Punch        Psychic   \n",
       "1       2650835   50.0  1500  Rock Throw     Rock Slide      Moonblast   \n",
       "2       2282878   50.0  1498        Lick      Body Slam     Power Whip   \n",
       "\n",
       "   Charged Move 1 Count  Charged Move 2 Count  Buddy Distance  \\\n",
       "0                     6                     8               3   \n",
       "1                     9                    12               5   \n",
       "2                    12                    17               3   \n",
       "\n",
       "   Charged Move Cost  \n",
       "0              50000  \n",
       "1              75000  \n",
       "2              50000  "
      ]
     },
     "metadata": {},
     "output_type": "display_data"
    }
   ],
   "source": [
    "checker(great)"
   ]
  },
  {
   "cell_type": "code",
   "execution_count": 17,
   "id": "2f629343-f504-4589-bb58-b3ca12b6fc54",
   "metadata": {
    "scrolled": true
   },
   "outputs": [
    {
     "data": {
      "text/plain": [
       "pandas.core.frame.DataFrame"
      ]
     },
     "metadata": {},
     "output_type": "display_data"
    },
    {
     "data": {
      "text/plain": [
       "(653, 18)"
      ]
     },
     "metadata": {},
     "output_type": "display_data"
    },
    {
     "data": {
      "text/html": [
       "<div>\n",
       "<style scoped>\n",
       "    .dataframe tbody tr th:only-of-type {\n",
       "        vertical-align: middle;\n",
       "    }\n",
       "\n",
       "    .dataframe tbody tr th {\n",
       "        vertical-align: top;\n",
       "    }\n",
       "\n",
       "    .dataframe thead th {\n",
       "        text-align: right;\n",
       "    }\n",
       "</style>\n",
       "<table border=\"1\" class=\"dataframe\">\n",
       "  <thead>\n",
       "    <tr style=\"text-align: right;\">\n",
       "      <th></th>\n",
       "      <th>Pokemon</th>\n",
       "      <th>Score</th>\n",
       "      <th>Dex</th>\n",
       "      <th>Type 1</th>\n",
       "      <th>Type 2</th>\n",
       "      <th>Attack</th>\n",
       "      <th>Defense</th>\n",
       "      <th>Stamina</th>\n",
       "      <th>Stat Product</th>\n",
       "      <th>Level</th>\n",
       "      <th>CP</th>\n",
       "      <th>Fast Move</th>\n",
       "      <th>Charged Move 1</th>\n",
       "      <th>Charged Move 2</th>\n",
       "      <th>Charged Move 1 Count</th>\n",
       "      <th>Charged Move 2 Count</th>\n",
       "      <th>Buddy Distance</th>\n",
       "      <th>Charged Move Cost</th>\n",
       "    </tr>\n",
       "  </thead>\n",
       "  <tbody>\n",
       "    <tr>\n",
       "      <th>0</th>\n",
       "      <td>Registeel</td>\n",
       "      <td>98.6</td>\n",
       "      <td>379</td>\n",
       "      <td>steel</td>\n",
       "      <td>none</td>\n",
       "      <td>122.8</td>\n",
       "      <td>242.2</td>\n",
       "      <td>171</td>\n",
       "      <td>5086235</td>\n",
       "      <td>49.0</td>\n",
       "      <td>2500</td>\n",
       "      <td>Lock On</td>\n",
       "      <td>Focus Blast</td>\n",
       "      <td>Zap Cannon</td>\n",
       "      <td>15</td>\n",
       "      <td>16</td>\n",
       "      <td>20</td>\n",
       "      <td>100000</td>\n",
       "    </tr>\n",
       "    <tr>\n",
       "      <th>1</th>\n",
       "      <td>Steelix</td>\n",
       "      <td>95.9</td>\n",
       "      <td>208</td>\n",
       "      <td>steel</td>\n",
       "      <td>ground</td>\n",
       "      <td>127.0</td>\n",
       "      <td>237.5</td>\n",
       "      <td>162</td>\n",
       "      <td>4887002</td>\n",
       "      <td>48.0</td>\n",
       "      <td>2497</td>\n",
       "      <td>Dragon Tail</td>\n",
       "      <td>Breaking Swipe</td>\n",
       "      <td>Earthquake</td>\n",
       "      <td>4</td>\n",
       "      <td>8</td>\n",
       "      <td>5</td>\n",
       "      <td>75000</td>\n",
       "    </tr>\n",
       "    <tr>\n",
       "      <th>2</th>\n",
       "      <td>Cobalion</td>\n",
       "      <td>94.7</td>\n",
       "      <td>638</td>\n",
       "      <td>steel</td>\n",
       "      <td>fighting</td>\n",
       "      <td>146.2</td>\n",
       "      <td>179.3</td>\n",
       "      <td>163</td>\n",
       "      <td>4272667</td>\n",
       "      <td>30.5</td>\n",
       "      <td>2500</td>\n",
       "      <td>Double Kick</td>\n",
       "      <td>Sacred Sword</td>\n",
       "      <td>Stone Edge</td>\n",
       "      <td>3</td>\n",
       "      <td>5</td>\n",
       "      <td>20</td>\n",
       "      <td>100000</td>\n",
       "    </tr>\n",
       "  </tbody>\n",
       "</table>\n",
       "</div>"
      ],
      "text/plain": [
       "     Pokemon  Score  Dex Type 1    Type 2  Attack  Defense  Stamina  \\\n",
       "0  Registeel   98.6  379  steel      none   122.8    242.2      171   \n",
       "1    Steelix   95.9  208  steel    ground   127.0    237.5      162   \n",
       "2   Cobalion   94.7  638  steel  fighting   146.2    179.3      163   \n",
       "\n",
       "   Stat Product  Level    CP    Fast Move  Charged Move 1 Charged Move 2  \\\n",
       "0       5086235   49.0  2500      Lock On     Focus Blast     Zap Cannon   \n",
       "1       4887002   48.0  2497  Dragon Tail  Breaking Swipe     Earthquake   \n",
       "2       4272667   30.5  2500  Double Kick    Sacred Sword     Stone Edge   \n",
       "\n",
       "   Charged Move 1 Count  Charged Move 2 Count  Buddy Distance  \\\n",
       "0                    15                    16              20   \n",
       "1                     4                     8               5   \n",
       "2                     3                     5              20   \n",
       "\n",
       "   Charged Move Cost  \n",
       "0             100000  \n",
       "1              75000  \n",
       "2             100000  "
      ]
     },
     "metadata": {},
     "output_type": "display_data"
    }
   ],
   "source": [
    "checker(ultra)"
   ]
  },
  {
   "cell_type": "code",
   "execution_count": 18,
   "id": "5aac83f1-8c36-42fc-a499-43a465447fb9",
   "metadata": {},
   "outputs": [
    {
     "data": {
      "text/plain": [
       "pandas.core.frame.DataFrame"
      ]
     },
     "metadata": {},
     "output_type": "display_data"
    },
    {
     "data": {
      "text/plain": [
       "(1194, 13)"
      ]
     },
     "metadata": {},
     "output_type": "display_data"
    },
    {
     "data": {
      "text/html": [
       "<div>\n",
       "<style scoped>\n",
       "    .dataframe tbody tr th:only-of-type {\n",
       "        vertical-align: middle;\n",
       "    }\n",
       "\n",
       "    .dataframe tbody tr th {\n",
       "        vertical-align: top;\n",
       "    }\n",
       "\n",
       "    .dataframe thead th {\n",
       "        text-align: right;\n",
       "    }\n",
       "</style>\n",
       "<table border=\"1\" class=\"dataframe\">\n",
       "  <thead>\n",
       "    <tr style=\"text-align: right;\">\n",
       "      <th></th>\n",
       "      <th>ID</th>\n",
       "      <th>Name</th>\n",
       "      <th>Form</th>\n",
       "      <th>Type1</th>\n",
       "      <th>Type2</th>\n",
       "      <th>Total</th>\n",
       "      <th>HP</th>\n",
       "      <th>Attack</th>\n",
       "      <th>Defense</th>\n",
       "      <th>Sp. Atk</th>\n",
       "      <th>Sp. Def</th>\n",
       "      <th>Speed</th>\n",
       "      <th>Generation</th>\n",
       "    </tr>\n",
       "  </thead>\n",
       "  <tbody>\n",
       "    <tr>\n",
       "      <th>0</th>\n",
       "      <td>1</td>\n",
       "      <td>Bulbasaur</td>\n",
       "      <td></td>\n",
       "      <td>Grass</td>\n",
       "      <td>Poison</td>\n",
       "      <td>318</td>\n",
       "      <td>45</td>\n",
       "      <td>49</td>\n",
       "      <td>49</td>\n",
       "      <td>65</td>\n",
       "      <td>65</td>\n",
       "      <td>45</td>\n",
       "      <td>1</td>\n",
       "    </tr>\n",
       "    <tr>\n",
       "      <th>1</th>\n",
       "      <td>2</td>\n",
       "      <td>Ivysaur</td>\n",
       "      <td></td>\n",
       "      <td>Grass</td>\n",
       "      <td>Poison</td>\n",
       "      <td>405</td>\n",
       "      <td>60</td>\n",
       "      <td>62</td>\n",
       "      <td>63</td>\n",
       "      <td>80</td>\n",
       "      <td>80</td>\n",
       "      <td>60</td>\n",
       "      <td>1</td>\n",
       "    </tr>\n",
       "    <tr>\n",
       "      <th>2</th>\n",
       "      <td>3</td>\n",
       "      <td>Venusaur</td>\n",
       "      <td></td>\n",
       "      <td>Grass</td>\n",
       "      <td>Poison</td>\n",
       "      <td>525</td>\n",
       "      <td>80</td>\n",
       "      <td>82</td>\n",
       "      <td>83</td>\n",
       "      <td>100</td>\n",
       "      <td>100</td>\n",
       "      <td>80</td>\n",
       "      <td>1</td>\n",
       "    </tr>\n",
       "  </tbody>\n",
       "</table>\n",
       "</div>"
      ],
      "text/plain": [
       "   ID       Name Form  Type1   Type2  Total  HP  Attack  Defense  Sp. Atk  \\\n",
       "0   1  Bulbasaur       Grass  Poison    318  45      49       49       65   \n",
       "1   2    Ivysaur       Grass  Poison    405  60      62       63       80   \n",
       "2   3   Venusaur       Grass  Poison    525  80      82       83      100   \n",
       "\n",
       "   Sp. Def  Speed  Generation  \n",
       "0       65     45           1  \n",
       "1       80     60           1  \n",
       "2      100     80           1  "
      ]
     },
     "metadata": {},
     "output_type": "display_data"
    }
   ],
   "source": [
    "checker(pkmn)"
   ]
  },
  {
   "cell_type": "code",
   "execution_count": 25,
   "id": "03b3515c-5f6a-4e0f-ac0f-ea0337a2ea77",
   "metadata": {},
   "outputs": [
    {
     "data": {
      "text/html": [
       "<div>\n",
       "<style scoped>\n",
       "    .dataframe tbody tr th:only-of-type {\n",
       "        vertical-align: middle;\n",
       "    }\n",
       "\n",
       "    .dataframe tbody tr th {\n",
       "        vertical-align: top;\n",
       "    }\n",
       "\n",
       "    .dataframe thead th {\n",
       "        text-align: right;\n",
       "    }\n",
       "</style>\n",
       "<table border=\"1\" class=\"dataframe\">\n",
       "  <thead>\n",
       "    <tr style=\"text-align: right;\">\n",
       "      <th></th>\n",
       "      <th>Dex</th>\n",
       "      <th>Name</th>\n",
       "      <th>Form</th>\n",
       "      <th>Type1</th>\n",
       "      <th>Type2</th>\n",
       "      <th>Total</th>\n",
       "      <th>HP</th>\n",
       "      <th>Attack</th>\n",
       "      <th>Defense</th>\n",
       "      <th>Sp. Atk</th>\n",
       "      <th>Sp. Def</th>\n",
       "      <th>Speed</th>\n",
       "      <th>Generation</th>\n",
       "    </tr>\n",
       "  </thead>\n",
       "  <tbody>\n",
       "    <tr>\n",
       "      <th>0</th>\n",
       "      <td>1</td>\n",
       "      <td>Bulbasaur</td>\n",
       "      <td></td>\n",
       "      <td>Grass</td>\n",
       "      <td>Poison</td>\n",
       "      <td>318</td>\n",
       "      <td>45</td>\n",
       "      <td>49</td>\n",
       "      <td>49</td>\n",
       "      <td>65</td>\n",
       "      <td>65</td>\n",
       "      <td>45</td>\n",
       "      <td>1</td>\n",
       "    </tr>\n",
       "    <tr>\n",
       "      <th>1</th>\n",
       "      <td>2</td>\n",
       "      <td>Ivysaur</td>\n",
       "      <td></td>\n",
       "      <td>Grass</td>\n",
       "      <td>Poison</td>\n",
       "      <td>405</td>\n",
       "      <td>60</td>\n",
       "      <td>62</td>\n",
       "      <td>63</td>\n",
       "      <td>80</td>\n",
       "      <td>80</td>\n",
       "      <td>60</td>\n",
       "      <td>1</td>\n",
       "    </tr>\n",
       "  </tbody>\n",
       "</table>\n",
       "</div>"
      ],
      "text/plain": [
       "   Dex       Name Form  Type1   Type2  Total  HP  Attack  Defense  Sp. Atk  \\\n",
       "0    1  Bulbasaur       Grass  Poison    318  45      49       49       65   \n",
       "1    2    Ivysaur       Grass  Poison    405  60      62       63       80   \n",
       "\n",
       "   Sp. Def  Speed  Generation  \n",
       "0       65     45           1  \n",
       "1       80     60           1  "
      ]
     },
     "execution_count": 25,
     "metadata": {},
     "output_type": "execute_result"
    }
   ],
   "source": [
    "pkmn = pkmn.rename(columns={'ID':'Dex'})\n"
   ]
  },
  {
   "cell_type": "code",
   "execution_count": 36,
   "id": "07c200a5-07cc-41c7-80b9-473beb49d675",
   "metadata": {},
   "outputs": [
    {
     "data": {
      "text/plain": [
       "pandas.core.frame.DataFrame"
      ]
     },
     "metadata": {},
     "output_type": "display_data"
    },
    {
     "data": {
      "text/plain": [
       "(1650, 4)"
      ]
     },
     "metadata": {},
     "output_type": "display_data"
    },
    {
     "data": {
      "text/html": [
       "<div>\n",
       "<style scoped>\n",
       "    .dataframe tbody tr th:only-of-type {\n",
       "        vertical-align: middle;\n",
       "    }\n",
       "\n",
       "    .dataframe tbody tr th {\n",
       "        vertical-align: top;\n",
       "    }\n",
       "\n",
       "    .dataframe thead th {\n",
       "        text-align: right;\n",
       "    }\n",
       "</style>\n",
       "<table border=\"1\" class=\"dataframe\">\n",
       "  <thead>\n",
       "    <tr style=\"text-align: right;\">\n",
       "      <th></th>\n",
       "      <th>Dex</th>\n",
       "      <th>Name</th>\n",
       "      <th>Pokemon</th>\n",
       "      <th>_merge</th>\n",
       "    </tr>\n",
       "  </thead>\n",
       "  <tbody>\n",
       "    <tr>\n",
       "      <th>0</th>\n",
       "      <td>1</td>\n",
       "      <td>Bulbasaur</td>\n",
       "      <td>Bulbasaur</td>\n",
       "      <td>both</td>\n",
       "    </tr>\n",
       "    <tr>\n",
       "      <th>1</th>\n",
       "      <td>1</td>\n",
       "      <td>Bulbasaur</td>\n",
       "      <td>Bulbasaur (Shadow)</td>\n",
       "      <td>both</td>\n",
       "    </tr>\n",
       "    <tr>\n",
       "      <th>2</th>\n",
       "      <td>2</td>\n",
       "      <td>Ivysaur</td>\n",
       "      <td>Ivysaur</td>\n",
       "      <td>both</td>\n",
       "    </tr>\n",
       "  </tbody>\n",
       "</table>\n",
       "</div>"
      ],
      "text/plain": [
       "   Dex       Name             Pokemon _merge\n",
       "0    1  Bulbasaur           Bulbasaur   both\n",
       "1    1  Bulbasaur  Bulbasaur (Shadow)   both\n",
       "2    2    Ivysaur             Ivysaur   both"
      ]
     },
     "metadata": {},
     "output_type": "display_data"
    }
   ],
   "source": [
    "merge = pkmn[['Dex', 'Name']].merge(great[['Dex', 'Pokemon']], on='Dex', how='outer', indicator=True)\n",
    "checker(merge)"
   ]
  },
  {
   "cell_type": "code",
   "execution_count": 37,
   "id": "9f840876-0320-4a96-b745-f648ee902a27",
   "metadata": {},
   "outputs": [
    {
     "data": {
      "text/html": [
       "<div>\n",
       "<style scoped>\n",
       "    .dataframe tbody tr th:only-of-type {\n",
       "        vertical-align: middle;\n",
       "    }\n",
       "\n",
       "    .dataframe tbody tr th {\n",
       "        vertical-align: top;\n",
       "    }\n",
       "\n",
       "    .dataframe thead th {\n",
       "        text-align: right;\n",
       "    }\n",
       "</style>\n",
       "<table border=\"1\" class=\"dataframe\">\n",
       "  <thead>\n",
       "    <tr style=\"text-align: right;\">\n",
       "      <th></th>\n",
       "      <th>Dex</th>\n",
       "      <th>Name</th>\n",
       "      <th>Pokemon</th>\n",
       "      <th>_merge</th>\n",
       "    </tr>\n",
       "  </thead>\n",
       "  <tbody>\n",
       "    <tr>\n",
       "      <th>0</th>\n",
       "      <td>1</td>\n",
       "      <td>Bulbasaur</td>\n",
       "      <td>Bulbasaur</td>\n",
       "      <td>both</td>\n",
       "    </tr>\n",
       "    <tr>\n",
       "      <th>1</th>\n",
       "      <td>1</td>\n",
       "      <td>Bulbasaur</td>\n",
       "      <td>Bulbasaur (Shadow)</td>\n",
       "      <td>both</td>\n",
       "    </tr>\n",
       "    <tr>\n",
       "      <th>2</th>\n",
       "      <td>2</td>\n",
       "      <td>Ivysaur</td>\n",
       "      <td>Ivysaur</td>\n",
       "      <td>both</td>\n",
       "    </tr>\n",
       "    <tr>\n",
       "      <th>3</th>\n",
       "      <td>2</td>\n",
       "      <td>Ivysaur</td>\n",
       "      <td>Ivysaur (Shadow)</td>\n",
       "      <td>both</td>\n",
       "    </tr>\n",
       "    <tr>\n",
       "      <th>4</th>\n",
       "      <td>3</td>\n",
       "      <td>Venusaur</td>\n",
       "      <td>Venusaur</td>\n",
       "      <td>both</td>\n",
       "    </tr>\n",
       "    <tr>\n",
       "      <th>...</th>\n",
       "      <td>...</td>\n",
       "      <td>...</td>\n",
       "      <td>...</td>\n",
       "      <td>...</td>\n",
       "    </tr>\n",
       "    <tr>\n",
       "      <th>1645</th>\n",
       "      <td>1006</td>\n",
       "      <td>Iron Valiant</td>\n",
       "      <td>NaN</td>\n",
       "      <td>left_only</td>\n",
       "    </tr>\n",
       "    <tr>\n",
       "      <th>1646</th>\n",
       "      <td>1007</td>\n",
       "      <td>Koraidon</td>\n",
       "      <td>NaN</td>\n",
       "      <td>left_only</td>\n",
       "    </tr>\n",
       "    <tr>\n",
       "      <th>1647</th>\n",
       "      <td>1008</td>\n",
       "      <td>Miraidon</td>\n",
       "      <td>NaN</td>\n",
       "      <td>left_only</td>\n",
       "    </tr>\n",
       "    <tr>\n",
       "      <th>1648</th>\n",
       "      <td>1009</td>\n",
       "      <td>Walking Wake</td>\n",
       "      <td>NaN</td>\n",
       "      <td>left_only</td>\n",
       "    </tr>\n",
       "    <tr>\n",
       "      <th>1649</th>\n",
       "      <td>1010</td>\n",
       "      <td>Iron Leaves</td>\n",
       "      <td>NaN</td>\n",
       "      <td>left_only</td>\n",
       "    </tr>\n",
       "  </tbody>\n",
       "</table>\n",
       "<p>1650 rows × 4 columns</p>\n",
       "</div>"
      ],
      "text/plain": [
       "       Dex          Name             Pokemon     _merge\n",
       "0        1     Bulbasaur           Bulbasaur       both\n",
       "1        1     Bulbasaur  Bulbasaur (Shadow)       both\n",
       "2        2       Ivysaur             Ivysaur       both\n",
       "3        2       Ivysaur    Ivysaur (Shadow)       both\n",
       "4        3      Venusaur            Venusaur       both\n",
       "...    ...           ...                 ...        ...\n",
       "1645  1006  Iron Valiant                 NaN  left_only\n",
       "1646  1007      Koraidon                 NaN  left_only\n",
       "1647  1008      Miraidon                 NaN  left_only\n",
       "1648  1009  Walking Wake                 NaN  left_only\n",
       "1649  1010   Iron Leaves                 NaN  left_only\n",
       "\n",
       "[1650 rows x 4 columns]"
      ]
     },
     "execution_count": 37,
     "metadata": {},
     "output_type": "execute_result"
    }
   ],
   "source": [
    "#more rows because of the shadow pokemon\n",
    "merge"
   ]
  },
  {
   "cell_type": "code",
   "execution_count": 34,
   "id": "89aee8da-9e0b-42b4-97e2-757e65d9543f",
   "metadata": {},
   "outputs": [
    {
     "data": {
      "text/plain": [
       "_merge\n",
       "both          1187\n",
       "left_only      463\n",
       "right_only       0\n",
       "Name: count, dtype: int64"
      ]
     },
     "execution_count": 34,
     "metadata": {},
     "output_type": "execute_result"
    }
   ],
   "source": [
    "merge._merge.value_counts()"
   ]
  },
  {
   "cell_type": "code",
   "execution_count": null,
   "id": "42a69508-2e02-475c-ad3e-bfcdc911297a",
   "metadata": {},
   "outputs": [],
   "source": [
    "#there are 463 pokemon "
   ]
  }
 ],
 "metadata": {
  "kernelspec": {
   "display_name": "Python 3 (ipykernel)",
   "language": "python",
   "name": "python3"
  },
  "language_info": {
   "codemirror_mode": {
    "name": "ipython",
    "version": 3
   },
   "file_extension": ".py",
   "mimetype": "text/x-python",
   "name": "python",
   "nbconvert_exporter": "python",
   "pygments_lexer": "ipython3",
   "version": "3.12.0"
  }
 },
 "nbformat": 4,
 "nbformat_minor": 5
}
