{
 "cells": [
  {
   "cell_type": "code",
   "execution_count": 1,
   "id": "e7e217c0-cad7-4387-9ea4-e2335cb62d6b",
   "metadata": {},
   "outputs": [],
   "source": [
    "import pandas as pd"
   ]
  },
  {
   "cell_type": "code",
   "execution_count": 2,
   "id": "ec015646-a636-4e1f-9404-af37508b1e97",
   "metadata": {},
   "outputs": [],
   "source": [
    "#URLs to CSV from google drive\n",
    "url1 = 'https://drive.google.com/file/d/1QO5zmytPKui7W9LpPmrI6DHZr1Ah7HFR/view?usp=sharing'\n",
    "url2 = 'https://drive.google.com/file/d/1hPT-N6ECvbhZDSO4yucPKhVEhDQG0VQw/view?usp=sharing'\n",
    "url3 = 'https://drive.google.com/file/d/1cCUBzDxIufQoDQTHnSV15eylitN4v_3W/view?usp=sharing'"
   ]
  },
  {
   "cell_type": "code",
   "execution_count": 3,
   "id": "9fe0c62d-3717-41ad-9a7c-1b777fa6f459",
   "metadata": {},
   "outputs": [],
   "source": [
    "#function to import csvs from google drive\n",
    "def importer(url): \n",
    "    df = pd.read_csv('https://drive.google.com/uc?export=download&id='+url.split('/')[-2])\n",
    "    return df"
   ]
  },
  {
   "cell_type": "code",
   "execution_count": 4,
   "id": "6676efd6-2ba7-43f2-9fbd-563c263d1423",
   "metadata": {},
   "outputs": [],
   "source": [
    "#function to check df\n",
    "def checker(df):\n",
    "    display(type(df))\n",
    "    display(df.shape)\n",
    "    display(df.head(3))\n",
    "    "
   ]
  },
  {
   "cell_type": "code",
   "execution_count": 5,
   "id": "6b368547-6bf0-419d-8967-8dc1c90ca615",
   "metadata": {},
   "outputs": [],
   "source": [
    "great = importer(url1)"
   ]
  },
  {
   "cell_type": "code",
   "execution_count": 6,
   "id": "2582af44-0de0-48d4-9106-6e2fc33177a5",
   "metadata": {},
   "outputs": [],
   "source": [
    "ultra = importer(url2)"
   ]
  },
  {
   "cell_type": "code",
   "execution_count": 7,
   "id": "e5a9a1dd-ea01-432a-baf3-8e67cc043817",
   "metadata": {},
   "outputs": [],
   "source": [
    "pkmn = importer(url3)"
   ]
  },
  {
   "cell_type": "markdown",
   "id": "e1b7ef40-fda4-4398-896f-28ed3e548bc7",
   "metadata": {},
   "source": [
    "# Cleaning"
   ]
  },
  {
   "cell_type": "code",
   "execution_count": 8,
   "id": "ee5fcd3c-df93-47d2-a0e7-7351b745c089",
   "metadata": {},
   "outputs": [],
   "source": [
    "great = great.assign(league='great')\n",
    "ultra = ultra.assign(league='ultra')\n",
    "pkmn = pkmn.assign(league='dex_list')"
   ]
  },
  {
   "cell_type": "code",
   "execution_count": 9,
   "id": "44e57bd1-9c73-431b-8028-25a3565b04b3",
   "metadata": {},
   "outputs": [
    {
     "data": {
      "text/plain": [
       "pandas.core.frame.DataFrame"
      ]
     },
     "metadata": {},
     "output_type": "display_data"
    },
    {
     "data": {
      "text/plain": [
       "(1194, 14)"
      ]
     },
     "metadata": {},
     "output_type": "display_data"
    },
    {
     "data": {
      "text/html": [
       "<div>\n",
       "<style scoped>\n",
       "    .dataframe tbody tr th:only-of-type {\n",
       "        vertical-align: middle;\n",
       "    }\n",
       "\n",
       "    .dataframe tbody tr th {\n",
       "        vertical-align: top;\n",
       "    }\n",
       "\n",
       "    .dataframe thead th {\n",
       "        text-align: right;\n",
       "    }\n",
       "</style>\n",
       "<table border=\"1\" class=\"dataframe\">\n",
       "  <thead>\n",
       "    <tr style=\"text-align: right;\">\n",
       "      <th></th>\n",
       "      <th>ID</th>\n",
       "      <th>Name</th>\n",
       "      <th>Form</th>\n",
       "      <th>Type1</th>\n",
       "      <th>Type2</th>\n",
       "      <th>Total</th>\n",
       "      <th>HP</th>\n",
       "      <th>Attack</th>\n",
       "      <th>Defense</th>\n",
       "      <th>Sp. Atk</th>\n",
       "      <th>Sp. Def</th>\n",
       "      <th>Speed</th>\n",
       "      <th>Generation</th>\n",
       "      <th>league</th>\n",
       "    </tr>\n",
       "  </thead>\n",
       "  <tbody>\n",
       "    <tr>\n",
       "      <th>0</th>\n",
       "      <td>1</td>\n",
       "      <td>Bulbasaur</td>\n",
       "      <td></td>\n",
       "      <td>Grass</td>\n",
       "      <td>Poison</td>\n",
       "      <td>318</td>\n",
       "      <td>45</td>\n",
       "      <td>49</td>\n",
       "      <td>49</td>\n",
       "      <td>65</td>\n",
       "      <td>65</td>\n",
       "      <td>45</td>\n",
       "      <td>1</td>\n",
       "      <td>dex_list</td>\n",
       "    </tr>\n",
       "    <tr>\n",
       "      <th>1</th>\n",
       "      <td>2</td>\n",
       "      <td>Ivysaur</td>\n",
       "      <td></td>\n",
       "      <td>Grass</td>\n",
       "      <td>Poison</td>\n",
       "      <td>405</td>\n",
       "      <td>60</td>\n",
       "      <td>62</td>\n",
       "      <td>63</td>\n",
       "      <td>80</td>\n",
       "      <td>80</td>\n",
       "      <td>60</td>\n",
       "      <td>1</td>\n",
       "      <td>dex_list</td>\n",
       "    </tr>\n",
       "    <tr>\n",
       "      <th>2</th>\n",
       "      <td>3</td>\n",
       "      <td>Venusaur</td>\n",
       "      <td></td>\n",
       "      <td>Grass</td>\n",
       "      <td>Poison</td>\n",
       "      <td>525</td>\n",
       "      <td>80</td>\n",
       "      <td>82</td>\n",
       "      <td>83</td>\n",
       "      <td>100</td>\n",
       "      <td>100</td>\n",
       "      <td>80</td>\n",
       "      <td>1</td>\n",
       "      <td>dex_list</td>\n",
       "    </tr>\n",
       "  </tbody>\n",
       "</table>\n",
       "</div>"
      ],
      "text/plain": [
       "   ID       Name Form  Type1   Type2  Total  HP  Attack  Defense  Sp. Atk  \\\n",
       "0   1  Bulbasaur       Grass  Poison    318  45      49       49       65   \n",
       "1   2    Ivysaur       Grass  Poison    405  60      62       63       80   \n",
       "2   3   Venusaur       Grass  Poison    525  80      82       83      100   \n",
       "\n",
       "   Sp. Def  Speed  Generation    league  \n",
       "0       65     45           1  dex_list  \n",
       "1       80     60           1  dex_list  \n",
       "2      100     80           1  dex_list  "
      ]
     },
     "metadata": {},
     "output_type": "display_data"
    }
   ],
   "source": [
    "checker(pkmn)"
   ]
  },
  {
   "cell_type": "code",
   "execution_count": null,
   "id": "350fae80-b0c7-4224-ae4d-d236a43e3ca6",
   "metadata": {},
   "outputs": [],
   "source": [
    "#concat of great and ultra league\n",
    "list = [great, ultra]\n",
    "league = pd.concat(list)\n",
    "league\n"
   ]
  },
  {
   "cell_type": "code",
   "execution_count": 18,
   "id": "4461bb9c-2864-4171-ad88-d6a430d5e3d0",
   "metadata": {},
   "outputs": [
    {
     "data": {
      "text/plain": [
       "Index(['Pokemon', 'Score', 'Dex', 'Type 1', 'Type 2', 'Attack', 'Defense',\n",
       "       'Stamina', 'Stat Product', 'Level', 'CP', 'Fast Move', 'Charged Move 1',\n",
       "       'Charged Move 2', 'Charged Move 1 Count', 'Charged Move 2 Count',\n",
       "       'Buddy Distance', 'Charged Move Cost', 'league'],\n",
       "      dtype='object')"
      ]
     },
     "execution_count": 18,
     "metadata": {},
     "output_type": "execute_result"
    }
   ],
   "source": [
    "league.columns"
   ]
  },
  {
   "cell_type": "code",
   "execution_count": 20,
   "id": "fb4ec4a7-a1e6-4d24-adbb-c4f123cdd854",
   "metadata": {},
   "outputs": [],
   "source": [
    "#test to rename columns to lower case\n",
    "league.columns = league.columns.str.lower()"
   ]
  },
  {
   "cell_type": "code",
   "execution_count": 22,
   "id": "c5b12955-8713-41b9-a967-e4aedf5f208a",
   "metadata": {},
   "outputs": [],
   "source": [
    "#using str.replace() to do snake case\n",
    "league.columns = league.columns.str.replace(' ','_')"
   ]
  },
  {
   "cell_type": "code",
   "execution_count": 26,
   "id": "91f3a188-8f70-4c6f-80e6-2fd8c08d5180",
   "metadata": {},
   "outputs": [
    {
     "data": {
      "text/plain": [
       "Index(['pokemon', 'score', 'dex', 'type_1', 'type_2', 'attack', 'defense',\n",
       "       'stamina', 'stat_product', 'level', 'cp', 'fast_move', 'charged_move_1',\n",
       "       'charged_move_2', 'charged_move_1_count', 'charged_move_2_count',\n",
       "       'buddy_distance', 'charged_move_cost', 'league'],\n",
       "      dtype='object')"
      ]
     },
     "execution_count": 26,
     "metadata": {},
     "output_type": "execute_result"
    }
   ],
   "source": [
    "league.columns"
   ]
  },
  {
   "cell_type": "markdown",
   "id": "b21cf686-ce53-4a5d-9e5c-11bce92a2471",
   "metadata": {},
   "source": [
    "# Exporting Data\n",
    "Export locally, then pushing to remote"
   ]
  },
  {
   "cell_type": "code",
   "execution_count": 24,
   "id": "02c9b3bc-313c-4973-bf9a-df0f87bbf74d",
   "metadata": {},
   "outputs": [],
   "source": [
    "#exporting data as CSV locally, then pushed to remote\n",
    "league.to_csv('gl_ul_concat.csv', index=False)"
   ]
  },
  {
   "cell_type": "markdown",
   "id": "dd793fc6-ae0b-4bec-ab90-cbd854f67f5e",
   "metadata": {},
   "source": [
    "# Analysis"
   ]
  },
  {
   "cell_type": "code",
   "execution_count": 28,
   "id": "b0eae688-e4ab-4dcc-a622-c0e50efb2702",
   "metadata": {},
   "outputs": [
    {
     "data": {
      "text/html": [
       "<div>\n",
       "<style scoped>\n",
       "    .dataframe tbody tr th:only-of-type {\n",
       "        vertical-align: middle;\n",
       "    }\n",
       "\n",
       "    .dataframe tbody tr th {\n",
       "        vertical-align: top;\n",
       "    }\n",
       "\n",
       "    .dataframe thead th {\n",
       "        text-align: right;\n",
       "    }\n",
       "</style>\n",
       "<table border=\"1\" class=\"dataframe\">\n",
       "  <thead>\n",
       "    <tr style=\"text-align: right;\">\n",
       "      <th></th>\n",
       "      <th>pokemon</th>\n",
       "      <th>score</th>\n",
       "      <th>dex</th>\n",
       "      <th>type_1</th>\n",
       "      <th>type_2</th>\n",
       "      <th>attack</th>\n",
       "      <th>defense</th>\n",
       "      <th>stamina</th>\n",
       "      <th>stat_product</th>\n",
       "      <th>level</th>\n",
       "      <th>cp</th>\n",
       "      <th>fast_move</th>\n",
       "      <th>charged_move_1</th>\n",
       "      <th>charged_move_2</th>\n",
       "      <th>charged_move_1_count</th>\n",
       "      <th>charged_move_2_count</th>\n",
       "      <th>buddy_distance</th>\n",
       "      <th>charged_move_cost</th>\n",
       "      <th>league</th>\n",
       "    </tr>\n",
       "  </thead>\n",
       "  <tbody>\n",
       "    <tr>\n",
       "      <th>0</th>\n",
       "      <td>Medicham</td>\n",
       "      <td>96.3</td>\n",
       "      <td>308</td>\n",
       "      <td>fighting</td>\n",
       "      <td>psychic</td>\n",
       "      <td>106.9</td>\n",
       "      <td>139.5</td>\n",
       "      <td>141</td>\n",
       "      <td>2102958</td>\n",
       "      <td>49.0</td>\n",
       "      <td>1500</td>\n",
       "      <td>Counter</td>\n",
       "      <td>Ice Punch</td>\n",
       "      <td>Psychic</td>\n",
       "      <td>6</td>\n",
       "      <td>8</td>\n",
       "      <td>3</td>\n",
       "      <td>50000</td>\n",
       "      <td>great</td>\n",
       "    </tr>\n",
       "    <tr>\n",
       "      <th>1</th>\n",
       "      <td>Carbink</td>\n",
       "      <td>96.1</td>\n",
       "      <td>703</td>\n",
       "      <td>rock</td>\n",
       "      <td>fairy</td>\n",
       "      <td>84.9</td>\n",
       "      <td>247.9</td>\n",
       "      <td>126</td>\n",
       "      <td>2650835</td>\n",
       "      <td>50.0</td>\n",
       "      <td>1500</td>\n",
       "      <td>Rock Throw</td>\n",
       "      <td>Rock Slide</td>\n",
       "      <td>Moonblast</td>\n",
       "      <td>9</td>\n",
       "      <td>12</td>\n",
       "      <td>5</td>\n",
       "      <td>75000</td>\n",
       "      <td>great</td>\n",
       "    </tr>\n",
       "    <tr>\n",
       "      <th>2</th>\n",
       "      <td>Lickitung</td>\n",
       "      <td>94.9</td>\n",
       "      <td>108</td>\n",
       "      <td>normal</td>\n",
       "      <td>none</td>\n",
       "      <td>98.3</td>\n",
       "      <td>126.9</td>\n",
       "      <td>183</td>\n",
       "      <td>2282878</td>\n",
       "      <td>50.0</td>\n",
       "      <td>1498</td>\n",
       "      <td>Lick</td>\n",
       "      <td>Body Slam</td>\n",
       "      <td>Power Whip</td>\n",
       "      <td>12</td>\n",
       "      <td>17</td>\n",
       "      <td>3</td>\n",
       "      <td>50000</td>\n",
       "      <td>great</td>\n",
       "    </tr>\n",
       "    <tr>\n",
       "      <th>3</th>\n",
       "      <td>Gligar (Shadow)</td>\n",
       "      <td>94.1</td>\n",
       "      <td>207</td>\n",
       "      <td>ground</td>\n",
       "      <td>flying</td>\n",
       "      <td>108.0</td>\n",
       "      <td>146.2</td>\n",
       "      <td>130</td>\n",
       "      <td>2052969</td>\n",
       "      <td>30.5</td>\n",
       "      <td>1493</td>\n",
       "      <td>Wing Attack</td>\n",
       "      <td>Aerial Ace</td>\n",
       "      <td>Dig</td>\n",
       "      <td>5</td>\n",
       "      <td>7</td>\n",
       "      <td>5</td>\n",
       "      <td>75000</td>\n",
       "      <td>great</td>\n",
       "    </tr>\n",
       "    <tr>\n",
       "      <th>4</th>\n",
       "      <td>Registeel</td>\n",
       "      <td>93.7</td>\n",
       "      <td>379</td>\n",
       "      <td>steel</td>\n",
       "      <td>none</td>\n",
       "      <td>95.5</td>\n",
       "      <td>189.6</td>\n",
       "      <td>130</td>\n",
       "      <td>2353244</td>\n",
       "      <td>23.0</td>\n",
       "      <td>1499</td>\n",
       "      <td>Lock On</td>\n",
       "      <td>Focus Blast</td>\n",
       "      <td>Zap Cannon</td>\n",
       "      <td>15</td>\n",
       "      <td>16</td>\n",
       "      <td>20</td>\n",
       "      <td>100000</td>\n",
       "      <td>great</td>\n",
       "    </tr>\n",
       "  </tbody>\n",
       "</table>\n",
       "</div>"
      ],
      "text/plain": [
       "           pokemon  score  dex    type_1   type_2  attack  defense  stamina  \\\n",
       "0         Medicham   96.3  308  fighting  psychic   106.9    139.5      141   \n",
       "1          Carbink   96.1  703      rock    fairy    84.9    247.9      126   \n",
       "2        Lickitung   94.9  108    normal     none    98.3    126.9      183   \n",
       "3  Gligar (Shadow)   94.1  207    ground   flying   108.0    146.2      130   \n",
       "4        Registeel   93.7  379     steel     none    95.5    189.6      130   \n",
       "\n",
       "   stat_product  level    cp    fast_move charged_move_1 charged_move_2  \\\n",
       "0       2102958   49.0  1500      Counter      Ice Punch        Psychic   \n",
       "1       2650835   50.0  1500   Rock Throw     Rock Slide      Moonblast   \n",
       "2       2282878   50.0  1498         Lick      Body Slam     Power Whip   \n",
       "3       2052969   30.5  1493  Wing Attack     Aerial Ace            Dig   \n",
       "4       2353244   23.0  1499      Lock On    Focus Blast     Zap Cannon   \n",
       "\n",
       "   charged_move_1_count  charged_move_2_count  buddy_distance  \\\n",
       "0                     6                     8               3   \n",
       "1                     9                    12               5   \n",
       "2                    12                    17               3   \n",
       "3                     5                     7               5   \n",
       "4                    15                    16              20   \n",
       "\n",
       "   charged_move_cost league  \n",
       "0              50000  great  \n",
       "1              75000  great  \n",
       "2              50000  great  \n",
       "3              75000  great  \n",
       "4             100000  great  "
      ]
     },
     "execution_count": 28,
     "metadata": {},
     "output_type": "execute_result"
    }
   ],
   "source": [
    "league.head()"
   ]
  },
  {
   "cell_type": "code",
   "execution_count": 12,
   "id": "319572b9-f9b5-4c6a-9339-6625f0ec2e2b",
   "metadata": {},
   "outputs": [
    {
     "data": {
      "text/plain": [
       "Pokemon\n",
       "Lumineon    2\n",
       "Magmar      2\n",
       "Beartic     2\n",
       "Name: count, dtype: int64"
      ]
     },
     "execution_count": 12,
     "metadata": {},
     "output_type": "execute_result"
    }
   ],
   "source": [
    "league.Pokemon.value_counts().head(3)"
   ]
  },
  {
   "cell_type": "code",
   "execution_count": 27,
   "id": "8cae73a3-efea-4932-b7db-f25f58a9ffbd",
   "metadata": {},
   "outputs": [
    {
     "data": {
      "text/plain": [
       "type_1\n",
       "water       189\n",
       "normal      152\n",
       "grass       147\n",
       "fire        106\n",
       "rock        102\n",
       "psychic     100\n",
       "bug          97\n",
       "electric     89\n",
       "ground       76\n",
       "poison       75\n",
       "fighting     70\n",
       "dark         70\n",
       "dragon       63\n",
       "ice          62\n",
       "ghost        55\n",
       "steel        53\n",
       "fairy        29\n",
       "flying        6\n",
       "Name: count, dtype: int64"
      ]
     },
     "execution_count": 27,
     "metadata": {},
     "output_type": "execute_result"
    }
   ],
   "source": [
    "#find the frequency of types \n",
    "league.type_1.value_counts()"
   ]
  },
  {
   "cell_type": "code",
   "execution_count": 29,
   "id": "e13654ef-f18f-49fb-88f4-050caee220fe",
   "metadata": {},
   "outputs": [
    {
     "data": {
      "text/plain": [
       "league\n",
       "great    888\n",
       "ultra    653\n",
       "Name: count, dtype: int64"
      ]
     },
     "execution_count": 29,
     "metadata": {},
     "output_type": "execute_result"
    }
   ],
   "source": [
    "league.league.value_counts()"
   ]
  },
  {
   "cell_type": "code",
   "execution_count": 31,
   "id": "a935d41b-a1ef-4497-8bfc-603f1d1c9d21",
   "metadata": {},
   "outputs": [
    {
     "data": {
      "text/html": [
       "<div>\n",
       "<style scoped>\n",
       "    .dataframe tbody tr th:only-of-type {\n",
       "        vertical-align: middle;\n",
       "    }\n",
       "\n",
       "    .dataframe tbody tr th {\n",
       "        vertical-align: top;\n",
       "    }\n",
       "\n",
       "    .dataframe thead tr th {\n",
       "        text-align: left;\n",
       "    }\n",
       "</style>\n",
       "<table border=\"1\" class=\"dataframe\">\n",
       "  <thead>\n",
       "    <tr>\n",
       "      <th></th>\n",
       "      <th>type_1</th>\n",
       "      <th colspan=\"2\" halign=\"left\">score</th>\n",
       "    </tr>\n",
       "    <tr>\n",
       "      <th></th>\n",
       "      <th></th>\n",
       "      <th>mean</th>\n",
       "      <th>max</th>\n",
       "    </tr>\n",
       "  </thead>\n",
       "  <tbody>\n",
       "    <tr>\n",
       "      <th>0</th>\n",
       "      <td>bug</td>\n",
       "      <td>72.513402</td>\n",
       "      <td>89.7</td>\n",
       "    </tr>\n",
       "    <tr>\n",
       "      <th>1</th>\n",
       "      <td>dark</td>\n",
       "      <td>73.082857</td>\n",
       "      <td>91.6</td>\n",
       "    </tr>\n",
       "    <tr>\n",
       "      <th>2</th>\n",
       "      <td>dragon</td>\n",
       "      <td>75.496825</td>\n",
       "      <td>93.0</td>\n",
       "    </tr>\n",
       "    <tr>\n",
       "      <th>3</th>\n",
       "      <td>electric</td>\n",
       "      <td>74.387640</td>\n",
       "      <td>87.8</td>\n",
       "    </tr>\n",
       "    <tr>\n",
       "      <th>4</th>\n",
       "      <td>fairy</td>\n",
       "      <td>73.893103</td>\n",
       "      <td>87.4</td>\n",
       "    </tr>\n",
       "    <tr>\n",
       "      <th>5</th>\n",
       "      <td>fighting</td>\n",
       "      <td>76.785714</td>\n",
       "      <td>96.3</td>\n",
       "    </tr>\n",
       "    <tr>\n",
       "      <th>6</th>\n",
       "      <td>fire</td>\n",
       "      <td>72.060377</td>\n",
       "      <td>87.8</td>\n",
       "    </tr>\n",
       "    <tr>\n",
       "      <th>7</th>\n",
       "      <td>flying</td>\n",
       "      <td>64.200000</td>\n",
       "      <td>84.9</td>\n",
       "    </tr>\n",
       "    <tr>\n",
       "      <th>8</th>\n",
       "      <td>ghost</td>\n",
       "      <td>73.545455</td>\n",
       "      <td>92.2</td>\n",
       "    </tr>\n",
       "    <tr>\n",
       "      <th>9</th>\n",
       "      <td>grass</td>\n",
       "      <td>73.051701</td>\n",
       "      <td>91.2</td>\n",
       "    </tr>\n",
       "    <tr>\n",
       "      <th>10</th>\n",
       "      <td>ground</td>\n",
       "      <td>72.992105</td>\n",
       "      <td>94.1</td>\n",
       "    </tr>\n",
       "    <tr>\n",
       "      <th>11</th>\n",
       "      <td>ice</td>\n",
       "      <td>75.700000</td>\n",
       "      <td>89.8</td>\n",
       "    </tr>\n",
       "    <tr>\n",
       "      <th>12</th>\n",
       "      <td>normal</td>\n",
       "      <td>68.730263</td>\n",
       "      <td>94.9</td>\n",
       "    </tr>\n",
       "    <tr>\n",
       "      <th>13</th>\n",
       "      <td>poison</td>\n",
       "      <td>74.353333</td>\n",
       "      <td>88.6</td>\n",
       "    </tr>\n",
       "    <tr>\n",
       "      <th>14</th>\n",
       "      <td>psychic</td>\n",
       "      <td>65.231000</td>\n",
       "      <td>94.1</td>\n",
       "    </tr>\n",
       "    <tr>\n",
       "      <th>15</th>\n",
       "      <td>rock</td>\n",
       "      <td>70.771569</td>\n",
       "      <td>96.1</td>\n",
       "    </tr>\n",
       "    <tr>\n",
       "      <th>16</th>\n",
       "      <td>steel</td>\n",
       "      <td>73.483019</td>\n",
       "      <td>98.6</td>\n",
       "    </tr>\n",
       "    <tr>\n",
       "      <th>17</th>\n",
       "      <td>water</td>\n",
       "      <td>74.270899</td>\n",
       "      <td>93.2</td>\n",
       "    </tr>\n",
       "  </tbody>\n",
       "</table>\n",
       "</div>"
      ],
      "text/plain": [
       "      type_1      score      \n",
       "                   mean   max\n",
       "0        bug  72.513402  89.7\n",
       "1       dark  73.082857  91.6\n",
       "2     dragon  75.496825  93.0\n",
       "3   electric  74.387640  87.8\n",
       "4      fairy  73.893103  87.4\n",
       "5   fighting  76.785714  96.3\n",
       "6       fire  72.060377  87.8\n",
       "7     flying  64.200000  84.9\n",
       "8      ghost  73.545455  92.2\n",
       "9      grass  73.051701  91.2\n",
       "10    ground  72.992105  94.1\n",
       "11       ice  75.700000  89.8\n",
       "12    normal  68.730263  94.9\n",
       "13    poison  74.353333  88.6\n",
       "14   psychic  65.231000  94.1\n",
       "15      rock  70.771569  96.1\n",
       "16     steel  73.483019  98.6\n",
       "17     water  74.270899  93.2"
      ]
     },
     "execution_count": 31,
     "metadata": {},
     "output_type": "execute_result"
    }
   ],
   "source": [
    "#test to using groupby to combine some agg functs together\n",
    "league.groupby('type_1').agg({\n",
    "    'score':['mean', 'max'],\n",
    "}).reset_index()"
   ]
  },
  {
   "cell_type": "code",
   "execution_count": null,
   "id": "77991e01-0d0d-4555-96a3-9a084e2c3ce7",
   "metadata": {},
   "outputs": [],
   "source": []
  }
 ],
 "metadata": {
  "kernelspec": {
   "display_name": "Python 3 (ipykernel)",
   "language": "python",
   "name": "python3"
  },
  "language_info": {
   "codemirror_mode": {
    "name": "ipython",
    "version": 3
   },
   "file_extension": ".py",
   "mimetype": "text/x-python",
   "name": "python",
   "nbconvert_exporter": "python",
   "pygments_lexer": "ipython3",
   "version": "3.12.0"
  }
 },
 "nbformat": 4,
 "nbformat_minor": 5
}
