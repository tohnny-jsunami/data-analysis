{
 "cells": [
  {
   "cell_type": "code",
   "execution_count": null,
   "id": "e7e217c0-cad7-4387-9ea4-e2335cb62d6b",
   "metadata": {},
   "outputs": [],
   "source": [
    "import pandas as pd"
   ]
  },
  {
   "cell_type": "code",
   "execution_count": null,
   "id": "ec015646-a636-4e1f-9404-af37508b1e97",
   "metadata": {},
   "outputs": [],
   "source": [
    "#URLs to CSV from google drive\n",
    "url1 = 'https://drive.google.com/file/d/1QO5zmytPKui7W9LpPmrI6DHZr1Ah7HFR/view?usp=sharing'\n",
    "url2 = 'https://drive.google.com/file/d/1hPT-N6ECvbhZDSO4yucPKhVEhDQG0VQw/view?usp=sharing'\n",
    "url3 = 'https://drive.google.com/file/d/1cCUBzDxIufQoDQTHnSV15eylitN4v_3W/view?usp=drive_link'"
   ]
  },
  {
   "cell_type": "code",
   "execution_count": null,
   "id": "9fe0c62d-3717-41ad-9a7c-1b777fa6f459",
   "metadata": {},
   "outputs": [],
   "source": [
    "def tester(url): \n",
    "    df = pd.read_csv('https://drive.google.com/uc?export=download&id='+url1.split('/')[-2])\n",
    "    return df"
   ]
  },
  {
   "cell_type": "code",
   "execution_count": null,
   "id": "6676efd6-2ba7-43f2-9fbd-563c263d1423",
   "metadata": {},
   "outputs": [],
   "source": [
    "def checker(df):\n",
    "    display(type(df))\n",
    "    display(df.shape)\n",
    "    display(df.head(3))\n",
    "    "
   ]
  },
  {
   "cell_type": "code",
   "execution_count": null,
   "id": "485c7948-5573-436b-a98c-d09da67870dc",
   "metadata": {},
   "outputs": [],
   "source": [
    "great = tester(url1)\n",
    "ultra = tester(url2)\n",
    "pkmn = tester(url3)"
   ]
  },
  {
   "cell_type": "code",
   "execution_count": null,
   "id": "dfde59b5-e54c-4d7b-93ee-9852d3c83666",
   "metadata": {},
   "outputs": [],
   "source": [
    "checker()"
   ]
  },
  {
   "cell_type": "code",
   "execution_count": null,
   "id": "2f629343-f504-4589-bb58-b3ca12b6fc54",
   "metadata": {},
   "outputs": [],
   "source": [
    "checker()"
   ]
  },
  {
   "cell_type": "code",
   "execution_count": null,
   "id": "ac64165a-4fdd-437f-b4ee-3bf88b85e626",
   "metadata": {},
   "outputs": [],
   "source": [
    "def concat(df,x,y):\n",
    "    df2 = df['type_concat'] = df[x] + df[y]\n",
    "    return df2"
   ]
  },
  {
   "cell_type": "code",
   "execution_count": null,
   "id": "03b3515c-5f6a-4e0f-ac0f-ea0337a2ea77",
   "metadata": {},
   "outputs": [],
   "source": []
  }
 ],
 "metadata": {
  "kernelspec": {
   "display_name": "Python 3 (ipykernel)",
   "language": "python",
   "name": "python3"
  },
  "language_info": {
   "codemirror_mode": {
    "name": "ipython",
    "version": 3
   },
   "file_extension": ".py",
   "mimetype": "text/x-python",
   "name": "python",
   "nbconvert_exporter": "python",
   "pygments_lexer": "ipython3",
   "version": "3.12.0"
  }
 },
 "nbformat": 4,
 "nbformat_minor": 5
}
